{
 "cells": [
  {
   "cell_type": "markdown",
   "metadata": {},
   "source": [
    "# Detroit Blight Ticket Compliance"
   ]
  },
  {
   "cell_type": "markdown",
   "metadata": {},
   "source": [
    "[Blight violations](http://www.detroitmi.gov/How-Do-I/Report/Blight-Complaint-FAQs) are issued by the city to individuals who allow their properties to remain in a deteriorated condition. Every year, the city of Detroit issues millions of dollars in fines to residents and every year, many of these fines remain unpaid. Enforcing unpaid blight fines is a costly and tedious process, so the city wants to know: how can we increase blight ticket compliance?\n",
    "\n",
    "The first step in answering this question is understanding when and why a resident might fail to comply with a blight ticket. This is where predictive modeling comes in. For this assignment, your task is to predict whether a given blight ticket will be paid on time.\n",
    "\n",
    "All data has been provided to us through the [Detroit Open Data Portal](https://data.detroitmi.gov/). We encourage you to look into data from other Detroit datasets to help inform feature creation and model selection. We recommend taking a look at the following related datasets:\n",
    "\n",
    "* [Building Permits](https://data.detroitmi.gov/Property-Parcels/Building-Permits/xw2a-a7tf)\n",
    "* [Trades Permits](https://data.detroitmi.gov/Property-Parcels/Trades-Permits/635b-dsgv)\n",
    "* [Improve Detroit: Submitted Issues](https://data.detroitmi.gov/Government/Improve-Detroit-Submitted-Issues/fwz3-w3yn)\n",
    "* [DPD: Citizen Complaints](https://data.detroitmi.gov/Public-Safety/DPD-Citizen-Complaints-2016/kahe-efs3)\n",
    "* [Parcel Map](https://data.detroitmi.gov/Property-Parcels/Parcel-Map/fxkw-udwf)\n",
    "\n",
    "___\n",
    "\n",
    "We provide you with two data files for use in training and validating your models: train.csv and test.csv. Each row in these two files corresponds to a single blight ticket, and includes information about when, why, and to whom each ticket was issued. The target variable is compliance, which is True if the ticket was paid early, on time, or within one month of the hearing data, False if the ticket was paid after the hearing date or not at all, and Null if the violator was found not responsible. Compliance, as well as a handful of other variables that will not be available at test-time, are only included in train.csv.\n",
    "\n",
    "Note: All tickets where the violators were found not responsible are not considered during evaluation. They are included in the training set as an additional source of data for visualization, and to enable unsupervised and semi-supervised approaches. However, they are not included in the test set.\n",
    "\n",
    "<br>\n",
    "\n",
    "**File descriptions** (Use only this data for training your model!)\n",
    "\n",
    "    train.csv - the training set (all tickets issued 2004-2011)\n",
    "    test.csv - the test set (all tickets issued 2012-2016)\n",
    "    addresses.csv & latlons.csv - mapping from ticket id to addresses, and from addresses to lat/lon coordinates. \n",
    "     Note: misspelled addresses may be incorrectly geolocated.\n",
    "</br>\n",
    "\n",
    "**Data fields**\n",
    "\n",
    "train.csv & test.csv\n",
    "\n",
    "    ticket_id - unique identifier for tickets\n",
    "    agency_name - Agency that issued the ticket\n",
    "    inspector_name - Name of inspector that issued the ticket\n",
    "    violator_name - Name of the person/organization that the ticket was issued to\n",
    "    violation_street_number, violation_street_name, violation_zip_code - Address where the violation occurred\n",
    "    mailing_address_str_number, mailing_address_str_name, city, state, zip_code, non_us_str_code, country - Mailing address of the violator\n",
    "    ticket_issued_date - Date and time the ticket was issued\n",
    "    hearing_date - Date and time the violator's hearing was scheduled\n",
    "    violation_code, violation_description - Type of violation\n",
    "    disposition - Judgment and judgement type\n",
    "    fine_amount - Violation fine amount, excluding fees\n",
    "    admin_fee - $20 fee assigned to responsible judgments\n",
    "state_fee - $10 fee assigned to responsible judgments\n",
    "    late_fee - 10% fee assigned to responsible judgments\n",
    "    discount_amount - discount applied, if any\n",
    "    clean_up_cost - DPW clean-up or graffiti removal cost\n",
    "    judgment_amount - Sum of all fines and fees\n",
    "    grafitti_status - Flag for graffiti violations\n",
    "    \n",
    "train.csv only\n",
    "\n",
    "    payment_amount - Amount paid, if any\n",
    "    payment_date - Date payment was made, if it was received\n",
    "    payment_status - Current payment status as of Feb 1 2017\n",
    "    balance_due - Fines and fees still owed\n",
    "    collection_status - Flag for payments in collections\n",
    "    compliance [target variable for prediction] \n",
    "     Null = Not responsible\n",
    "     0 = Responsible, non-compliant\n",
    "     1 = Responsible, compliant\n",
    "    compliance_detail - More information on why each ticket was marked compliant or non-compliant"
   ]
  },
  {
   "cell_type": "code",
   "execution_count": 9,
   "metadata": {},
   "outputs": [],
   "source": [
    "import pandas as pd\n",
    "import numpy as np\n",
    "import matplotlib.pyplot as plt\n",
    "#import seaborn as sns\n",
    "from sklearn.ensemble import RandomForestClassifier\n",
    "from sklearn.model_selection import RandomizedSearchCV\n",
    "from sklearn.model_selection import train_test_split\n",
    "from sklearn.metrics import roc_auc_score\n",
    "import pytest\n",
    "import warnings\n",
    "warnings.filterwarnings('ignore')"
   ]
  },
  {
   "cell_type": "code",
   "execution_count": 246,
   "metadata": {},
   "outputs": [],
   "source": [
    "test = pd.read_csv('test.csv')"
   ]
  },
  {
   "cell_type": "code",
   "execution_count": 197,
   "metadata": {},
   "outputs": [],
   "source": [
    "train = pd.read_csv('train.csv', encoding='ISO-8859-1')"
   ]
  },
  {
   "cell_type": "markdown",
   "metadata": {},
   "source": [
    "### Data Preprocessing"
   ]
  },
  {
   "cell_type": "code",
   "execution_count": 178,
   "metadata": {},
   "outputs": [],
   "source": [
    "def get_null_index(data_frame, feature, isTrain=True):\n",
    "    \"\"\"Return an array of int\n",
    "    \n",
    "    Any null values for country of USA\n",
    "    when compaliance value not null\n",
    "    \"\"\"\n",
    "    index_usa_only = []\n",
    "    df = data_frame\n",
    "    \n",
    "    if isTrain:\n",
    "        usa_only = df[df.compliance.notnull()].country == 'USA'\n",
    "    else:\n",
    "        usa_only = df.country == 'USA'\n",
    "        \n",
    "    index_usa_only = [index \n",
    "                      for index, val in enumerate(\n",
    "                          df.loc[usa_only.index,[feature]].isnull()[feature]\n",
    "                      ) if val\n",
    "                     ]\n",
    "    return index_usa_only"
   ]
  },
  {
   "cell_type": "code",
   "execution_count": 179,
   "metadata": {},
   "outputs": [],
   "source": [
    "class TestGetNullIndex(object):\n",
    "    \"\"\"\n",
    "    Testing get_null_index() against fine_amount feature\n",
    "\n",
    "    \"\"\"\n",
    "    \n",
    "    def test_no_index(self):\n",
    "        answer = []\n",
    "        df1 =  pd.DataFrame({'fine_amount':[100, 1, 0, 20, 100], \n",
    "                             'country':['USA', 'USA', 'USA', 'USA', 'USA'],\n",
    "                             'compliance':[1, 1, 1, 1, 1]})\n",
    "        \n",
    "        assert get_null_index(df1, 'fine_amount') == [], \"expect \" + str(answer)\n",
    "        \n",
    "    \n",
    "    def test_single_index(self):\n",
    "        answer = [1]\n",
    "        df2 = pd.DataFrame({'fine_amount':[100, None, 0, 20, 100],\n",
    "                                'country':['USA', 'USA', 'USA', 'USA', 'USA'],\n",
    "                                'compliance':[1, 1, 1, 1, 1]})\n",
    "        \n",
    "        assert get_null_index(df2, 'fine_amount') == answer, \"expect \" + str(answer)\n",
    "        \n",
    "    \n",
    "    def test_multiple_index(self):\n",
    "        answer = [0, 1, 4]\n",
    "        df3 = pd.DataFrame({'fine_amount':[None, None, 0, 20, None], \n",
    "                            'country':['USA', 'USA', 'USA', 'USA', 'USA'],\n",
    "                            'compliance':[1, 1, 1, 1, 1]})\n",
    "        \n",
    "        assert get_null_index(df3, 'fine_amount') == answer, \"expect \" + str(answer)"
   ]
  },
  {
   "cell_type": "code",
   "execution_count": 189,
   "metadata": {},
   "outputs": [],
   "source": [
    "## Testing for null index in train dataset\n",
    "_null_index_test = TestGetNullIndex()\n",
    "\n",
    "_null_index_test.test_no_index()\n",
    "_null_index_test.test_single_index()\n",
    "_null_index_test.test_multiple_index()"
   ]
  },
  {
   "cell_type": "markdown",
   "metadata": {},
   "source": [
    "### Check presence of null values in selected features of train and test dataset"
   ]
  },
  {
   "cell_type": "code",
   "execution_count": 187,
   "metadata": {},
   "outputs": [
    {
     "name": "stdout",
     "output_type": "stream",
     "text": [
      "Train\n",
      "{}\n",
      "Test\n",
      "{}\n"
     ]
    }
   ],
   "source": [
    "# Train data\n",
    "features = ['fine_amount', 'discount_amount', 'judgment_amount', \n",
    "            'admin_fee', 'state_fee', 'late_fee', 'clean_up_cost']\n",
    "\n",
    "print(\"Train\")\n",
    "print(\n",
    "    {feature: get_null_index(train, feature)\n",
    " for feature in features if get_null_index(train, feature)\n",
    "}\n",
    ")\n",
    "\n",
    "print(\"Test\")\n",
    "print(\n",
    "    {feature: get_null_index(test, feature, isTrain=False)\n",
    " for feature in features if get_null_index(test, feature, isTrain=False)\n",
    "}\n",
    ")"
   ]
  },
  {
   "cell_type": "code",
   "execution_count": 190,
   "metadata": {},
   "outputs": [],
   "source": [
    "#NOTE: This confirms that there are no null values in selectd features"
   ]
  },
  {
   "cell_type": "markdown",
   "metadata": {},
   "source": [
    "### Feature Importance"
   ]
  },
  {
   "cell_type": "code",
   "execution_count": 191,
   "metadata": {},
   "outputs": [],
   "source": [
    "def plot_feature_importance(dataFrame=train):\n",
    "    '''\n",
    "     Which features are important?\n",
    "    '''\n",
    "    \n",
    "    train = dataFrame\n",
    "    features = ['fine_amount', 'discount_amount', 'judgment_amount', \n",
    "                'admin_fee', 'state_fee', 'late_fee', 'clean_up_cost']\n",
    "    train_usa = train[train.compliance.notnull()][train.country=='USA']\n",
    "\n",
    "    y = train_usa['compliance']\n",
    "    X = train_usa[features]\n",
    "\n",
    "    x_train, x_test, y_train, y_test = train_test_split(X,y, test_size=0.2, random_state=45)\n",
    "    clf = RandomForestClassifier(random_state=0, n_estimators=10, bootstrap=False)\n",
    "    clf.fit(x_train, y_train)\n",
    "\n",
    "    importances = clf.feature_importances_\n",
    "    sorted_index = np.argsort(importances)\n",
    "    labels = x_train.columns[sorted_index]  \n",
    "    plt.barh(range(x_train.shape[1]), importances[sorted_index], tick_label=labels)\n",
    "    plt.show()"
   ]
  },
  {
   "cell_type": "code",
   "execution_count": 198,
   "metadata": {},
   "outputs": [
    {
     "data": {
      "image/png": "[encoded data removed]",
      "text/plain": [
       "<Figure size 432x288 with 1 Axes>"
      ]
     },
     "metadata": {
      "needs_background": "light"
     },
     "output_type": "display_data"
    }
   ],
   "source": [
    "plot_feature_importance()"
   ]
  },
  {
   "cell_type": "markdown",
   "metadata": {},
   "source": [
    "### late_fee, discount_amount, judgment_amount, fine_amount will be consider in the model\n",
    "##### total = fine_amount + judgment_amount - discount_amount + late_fee"
   ]
  },
  {
   "cell_type": "markdown",
   "metadata": {},
   "source": [
    "### Hyperparameter Search"
   ]
  },
  {
   "cell_type": "code",
   "execution_count": 399,
   "metadata": {},
   "outputs": [],
   "source": [
    "def get_best_param(dataFrame=train):\n",
    "    \n",
    "    train = dataFrame\n",
    "    features = ['fine_amount', 'discount_amount', 'judgment_amount', 'late_fee', 'total']\n",
    "    \n",
    "    train_usa = train[train['compliance'].notnull()][train.country=='USA']\n",
    "    train_usa['total'] = train_usa.fine_amount \\\n",
    "    + train_usa.judgment_amount - train_usa.discount_amount + train_usa.late_fee\n",
    "    \n",
    "    y = train_usa['compliance']\n",
    "    X = train_usa[features]\n",
    "    \n",
    "    x_train, x_test, y_train, y_test = train_test_split(X,y, test_size=0.2, random_state=45)\n",
    "\n",
    "    para_grid = {'n_estimators':[10, 30, 60], \n",
    "                 'max_features':['auto'], \n",
    "                 'bootstrap':[True, False],\n",
    "                 'criterion': ['gini', 'entropy']}\n",
    "  \n",
    "    clf = RandomizedSearchCV(RandomForestClassifier(random_state=45), para_grid)\n",
    "    search = clf.fit(x_train, y_train)\n",
    "    \n",
    "    return search.best_params_"
   ]
  },
  {
   "cell_type": "code",
   "execution_count": 400,
   "metadata": {},
   "outputs": [
    {
     "data": {
      "text/plain": [
       "{'n_estimators': 10,\n",
       " 'max_features': 'auto',\n",
       " 'criterion': 'gini',\n",
       " 'bootstrap': True}"
      ]
     },
     "execution_count": 400,
     "metadata": {},
     "output_type": "execute_result"
    }
   ],
   "source": [
    "get_best_param(train)"
   ]
  },
  {
   "cell_type": "markdown",
   "metadata": {},
   "source": [
    "### Model"
   ]
  },
  {
   "cell_type": "code",
   "execution_count": 348,
   "metadata": {},
   "outputs": [],
   "source": [
    "def blight_model(dataFrame=train):\n",
    "    \n",
    "    \"\"\"Return model, area_under_ROC \n",
    "    \n",
    "    RandomForestClassifier model returns\n",
    "    probabilty of compliant (class 1)\n",
    "    \n",
    "    \"\"\"\n",
    "    \n",
    "    train = dataFrame\n",
    "    features = ['fine_amount', 'discount_amount', 'judgment_amount', 'late_fee', 'total']\n",
    "    \n",
    "    train_usa = train[train['compliance'].notnull()][train.country=='USA']\n",
    "    train_usa['total'] = train_usa.fine_amount \\\n",
    "    + train_usa.judgment_amount - train_usa.discount_amount + train_usa.late_fee\n",
    "    \n",
    "    y = train_usa['compliance']\n",
    "    X = train_usa[features]\n",
    "    \n",
    "    x_train, x_test, y_train, y_test = train_test_split(X,y, test_size=0.2, random_state=45)\n",
    "    clf = RandomForestClassifier(random_state=0, \n",
    "                                 n_estimators=10, \n",
    "                                 max_features='auto', \n",
    "                                 criterion = 'entropy', \n",
    "                                 bootstrap=True)\n",
    "    clf.fit(x_train, y_train)\n",
    "    y_pred_prob = clf.predict_proba(x_test)\n",
    "    \n",
    "    return clf, roc_auc_score(y_test, y_pred_prob[:,1])"
   ]
  },
  {
   "cell_type": "markdown",
   "metadata": {},
   "source": [
    "### Model and Evaluation"
   ]
  },
  {
   "cell_type": "code",
   "execution_count": 349,
   "metadata": {},
   "outputs": [],
   "source": [
    "clf_model, auc_score = blight_model(train)"
   ]
  },
  {
   "cell_type": "code",
   "execution_count": 350,
   "metadata": {},
   "outputs": [
    {
     "name": "stdout",
     "output_type": "stream",
     "text": [
      "0.7562468460831332\n"
     ]
    }
   ],
   "source": [
    "print(auc_score)"
   ]
  },
  {
   "cell_type": "markdown",
   "metadata": {},
   "source": [
    "### Predictions"
   ]
  },
  {
   "cell_type": "code",
   "execution_count": 6,
   "metadata": {},
   "outputs": [],
   "source": [
    "def predict_prob_compliance(model, fine, discount, judgment_amount, late_fee):\n",
    "    \n",
    "    df = pd.DataFrame({\"fine_amount\":[fine], \n",
    "                      \"discount_amount\": [discount],\n",
    "                      \"judgment_amount\": [judgment_amount],\n",
    "                      \"late_fee\": [late_fee],\n",
    "                      \"total\": [fine + judgment_amount - discount + late_fee]\n",
    "                     })\n",
    "    #this order of feature is very important\n",
    "    df = df[['fine_amount', 'discount_amount', 'judgment_amount', 'late_fee', 'total']]\n",
    "    pred_prob = model.predict_proba(df)\n",
    "        \n",
    "    return pred_prob[:,1][0]"
   ]
  },
  {
   "cell_type": "markdown",
   "metadata": {},
   "source": [
    "### Prediction Examples from test dataset"
   ]
  },
  {
   "cell_type": "code",
   "execution_count": 390,
   "metadata": {},
   "outputs": [
    {
     "data": {
      "text/html": [
       "<div>\n",
       "<style scoped>\n",
       "    .dataframe tbody tr th:only-of-type {\n",
       "        vertical-align: middle;\n",
       "    }\n",
       "\n",
       "    .dataframe tbody tr th {\n",
       "        vertical-align: top;\n",
       "    }\n",
       "\n",
       "    .dataframe thead th {\n",
       "        text-align: right;\n",
       "    }\n",
       "</style>\n",
       "<table border=\"1\" class=\"dataframe\">\n",
       "  <thead>\n",
       "    <tr style=\"text-align: right;\">\n",
       "      <th></th>\n",
       "      <th>fine_amount</th>\n",
       "      <th>discount_amount</th>\n",
       "      <th>judgment_amount</th>\n",
       "      <th>late_fee</th>\n",
       "    </tr>\n",
       "  </thead>\n",
       "  <tbody>\n",
       "    <tr>\n",
       "      <th>0</th>\n",
       "      <td>200.0</td>\n",
       "      <td>0.0</td>\n",
       "      <td>250.0</td>\n",
       "      <td>20.0</td>\n",
       "    </tr>\n",
       "    <tr>\n",
       "      <th>1</th>\n",
       "      <td>1000.0</td>\n",
       "      <td>0.0</td>\n",
       "      <td>1130.0</td>\n",
       "      <td>100.0</td>\n",
       "    </tr>\n",
       "    <tr>\n",
       "      <th>2</th>\n",
       "      <td>100.0</td>\n",
       "      <td>0.0</td>\n",
       "      <td>140.0</td>\n",
       "      <td>10.0</td>\n",
       "    </tr>\n",
       "    <tr>\n",
       "      <th>3</th>\n",
       "      <td>200.0</td>\n",
       "      <td>0.0</td>\n",
       "      <td>250.0</td>\n",
       "      <td>20.0</td>\n",
       "    </tr>\n",
       "    <tr>\n",
       "      <th>4</th>\n",
       "      <td>100.0</td>\n",
       "      <td>0.0</td>\n",
       "      <td>140.0</td>\n",
       "      <td>10.0</td>\n",
       "    </tr>\n",
       "  </tbody>\n",
       "</table>\n",
       "</div>"
      ],
      "text/plain": [
       "   fine_amount  discount_amount  judgment_amount  late_fee\n",
       "0        200.0              0.0            250.0      20.0\n",
       "1       1000.0              0.0           1130.0     100.0\n",
       "2        100.0              0.0            140.0      10.0\n",
       "3        200.0              0.0            250.0      20.0\n",
       "4        100.0              0.0            140.0      10.0"
      ]
     },
     "execution_count": 390,
     "metadata": {},
     "output_type": "execute_result"
    }
   ],
   "source": [
    "test[['fine_amount', 'discount_amount', 'judgment_amount', 'late_fee']].head()"
   ]
  },
  {
   "cell_type": "code",
   "execution_count": 391,
   "metadata": {},
   "outputs": [
    {
     "data": {
      "text/plain": [
       "0.022364511088289903"
      ]
     },
     "execution_count": 391,
     "metadata": {},
     "output_type": "execute_result"
    }
   ],
   "source": [
    "predict_prob_compliance(clf_model, fine=1000.0, discount=0.0, judgment_amount=1130.0, late_fee=100.0)"
   ]
  },
  {
   "cell_type": "code",
   "execution_count": 392,
   "metadata": {},
   "outputs": [
    {
     "data": {
      "text/html": [
       "<div>\n",
       "<style scoped>\n",
       "    .dataframe tbody tr th:only-of-type {\n",
       "        vertical-align: middle;\n",
       "    }\n",
       "\n",
       "    .dataframe tbody tr th {\n",
       "        vertical-align: top;\n",
       "    }\n",
       "\n",
       "    .dataframe thead th {\n",
       "        text-align: right;\n",
       "    }\n",
       "</style>\n",
       "<table border=\"1\" class=\"dataframe\">\n",
       "  <thead>\n",
       "    <tr style=\"text-align: right;\">\n",
       "      <th></th>\n",
       "      <th>fine_amount</th>\n",
       "      <th>discount_amount</th>\n",
       "      <th>judgment_amount</th>\n",
       "      <th>late_fee</th>\n",
       "    </tr>\n",
       "  </thead>\n",
       "  <tbody>\n",
       "    <tr>\n",
       "      <th>60996</th>\n",
       "      <td>1000.0</td>\n",
       "      <td>0.0</td>\n",
       "      <td>1130.0</td>\n",
       "      <td>100.0</td>\n",
       "    </tr>\n",
       "    <tr>\n",
       "      <th>60997</th>\n",
       "      <td>1000.0</td>\n",
       "      <td>0.0</td>\n",
       "      <td>1130.0</td>\n",
       "      <td>100.0</td>\n",
       "    </tr>\n",
       "    <tr>\n",
       "      <th>60998</th>\n",
       "      <td>100.0</td>\n",
       "      <td>0.0</td>\n",
       "      <td>140.0</td>\n",
       "      <td>10.0</td>\n",
       "    </tr>\n",
       "    <tr>\n",
       "      <th>60999</th>\n",
       "      <td>100.0</td>\n",
       "      <td>0.0</td>\n",
       "      <td>140.0</td>\n",
       "      <td>10.0</td>\n",
       "    </tr>\n",
       "    <tr>\n",
       "      <th>61000</th>\n",
       "      <td>50.0</td>\n",
       "      <td>0.0</td>\n",
       "      <td>80.0</td>\n",
       "      <td>0.0</td>\n",
       "    </tr>\n",
       "  </tbody>\n",
       "</table>\n",
       "</div>"
      ],
      "text/plain": [
       "       fine_amount  discount_amount  judgment_amount  late_fee\n",
       "60996       1000.0              0.0           1130.0     100.0\n",
       "60997       1000.0              0.0           1130.0     100.0\n",
       "60998        100.0              0.0            140.0      10.0\n",
       "60999        100.0              0.0            140.0      10.0\n",
       "61000         50.0              0.0             80.0       0.0"
      ]
     },
     "execution_count": 392,
     "metadata": {},
     "output_type": "execute_result"
    }
   ],
   "source": [
    "test[['fine_amount', 'discount_amount', 'judgment_amount', 'late_fee']].tail()"
   ]
  },
  {
   "cell_type": "code",
   "execution_count": 397,
   "metadata": {},
   "outputs": [
    {
     "data": {
      "text/plain": [
       "0.03603206685781632"
      ]
     },
     "execution_count": 397,
     "metadata": {},
     "output_type": "execute_result"
    }
   ],
   "source": [
    "predict_prob_compliance(clf_model, fine=250.0, discount=0.0, judgment_amount=305.0, late_fee=25.0)"
   ]
  },
  {
   "cell_type": "markdown",
   "metadata": {},
   "source": [
    "### Preparing model for a web app"
   ]
  },
  {
   "cell_type": "code",
   "execution_count": 1,
   "metadata": {},
   "outputs": [],
   "source": [
    "import pickle"
   ]
  },
  {
   "cell_type": "code",
   "execution_count": 402,
   "metadata": {},
   "outputs": [],
   "source": [
    "with open('blight_ticket_violation_model.pickle', 'wb') as f:\n",
    "    pickle.dump(clf_model,f)"
   ]
  },
  {
   "cell_type": "markdown",
   "metadata": {},
   "source": [
    "### Using the model in pickle file for prediction"
   ]
  },
  {
   "cell_type": "code",
   "execution_count": 3,
   "metadata": {},
   "outputs": [],
   "source": [
    "with open('./blight_ticket_violation_model.pickle', 'rb') as f:\n",
    "    _model = pickle.load(f)"
   ]
  },
  {
   "cell_type": "code",
   "execution_count": 4,
   "metadata": {},
   "outputs": [
    {
     "data": {
      "text/plain": [
       "RandomForestClassifier(criterion='entropy', n_estimators=10, random_state=0)"
      ]
     },
     "execution_count": 4,
     "metadata": {},
     "output_type": "execute_result"
    }
   ],
   "source": [
    "_model"
   ]
  },
  {
   "cell_type": "code",
   "execution_count": 10,
   "metadata": {},
   "outputs": [
    {
     "data": {
      "text/plain": [
       "0.03603206685781632"
      ]
     },
     "execution_count": 10,
     "metadata": {},
     "output_type": "execute_result"
    }
   ],
   "source": [
    "predict_prob_compliance(model=_model, \n",
    "                        fine=250.0, discount=0.0, judgment_amount=305.0, late_fee=25)"
   ]
  },
  {
   "cell_type": "code",
   "execution_count": null,
   "metadata": {},
   "outputs": [],
   "source": [
    "_model.predict()"
   ]
  }
 ],
 "metadata": {
  "coursera": {
   "course_slug": "python-machine-learning",
   "graded_item_id": "nNS8l",
   "launcher_item_id": "yWWk7",
   "part_id": "w8BSS"
  },
  "kernelspec": {
   "display_name": "Python 3",
   "language": "python",
   "name": "python3"
  },
  "language_info": {
   "codemirror_mode": {
    "name": "ipython",
    "version": 3
   },
   "file_extension": ".py",
   "mimetype": "text/x-python",
   "name": "python",
   "nbconvert_exporter": "python",
   "pygments_lexer": "ipython3",
   "version": "3.7.6"
  }
 },
 "nbformat": 4,
 "nbformat_minor": 2
}
